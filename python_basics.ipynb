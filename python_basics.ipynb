{
  "nbformat": 4,
  "nbformat_minor": 0,
  "metadata": {
    "colab": {
      "name": "python_basics.ipynb",
      "version": "0.3.2",
      "provenance": []
    },
    "kernelspec": {
      "name": "python3",
      "display_name": "Python 3"
    }
  },
  "cells": [
    {
      "metadata": {
        "id": "1Jvm0oWy6wfo",
        "colab_type": "text"
      },
      "cell_type": "markdown",
      "source": [
        "# Python Basic data types\n"
      ]
    },
    {
      "metadata": {
        "id": "ZRbuNbdz65yz",
        "colab_type": "code",
        "colab": {
          "base_uri": "https://localhost:8080/",
          "height": 35
        },
        "outputId": "fdb60fa5-adeb-468f-ff3f-27d28388e678"
      },
      "cell_type": "code",
      "source": [
        "name = 'Lenovo P2'\n",
        "type(name)"
      ],
      "execution_count": 1,
      "outputs": [
        {
          "output_type": "execute_result",
          "data": {
            "text/plain": [
              "str"
            ]
          },
          "metadata": {
            "tags": []
          },
          "execution_count": 1
        }
      ]
    },
    {
      "metadata": {
        "id": "vP6m4ag-6u7s",
        "colab_type": "code",
        "colab": {
          "base_uri": "https://localhost:8080/",
          "height": 35
        },
        "outputId": "42597d85-d071-4a2c-a96f-174220302adb"
      },
      "cell_type": "code",
      "source": [
        "screen_size = 5.2\n",
        "type(screen_size)"
      ],
      "execution_count": 2,
      "outputs": [
        {
          "output_type": "execute_result",
          "data": {
            "text/plain": [
              "float"
            ]
          },
          "metadata": {
            "tags": []
          },
          "execution_count": 2
        }
      ]
    },
    {
      "metadata": {
        "id": "toWj66F67kpn",
        "colab_type": "code",
        "colab": {
          "base_uri": "https://localhost:8080/",
          "height": 35
        },
        "outputId": "48e2df82-3031-4470-d8f1-47c85ea93c14"
      },
      "cell_type": "code",
      "source": [
        "is_Android = True\n",
        "type(is_Android)"
      ],
      "execution_count": 3,
      "outputs": [
        {
          "output_type": "execute_result",
          "data": {
            "text/plain": [
              "bool"
            ]
          },
          "metadata": {
            "tags": []
          },
          "execution_count": 3
        }
      ]
    },
    {
      "metadata": {
        "id": "k-9ydw__7r-T",
        "colab_type": "code",
        "colab": {
          "base_uri": "https://localhost:8080/",
          "height": 35
        },
        "outputId": "4dd2a952-075c-47b7-b281-cc8417aeceb4"
      },
      "cell_type": "code",
      "source": [
        "num_speakers = 2\n",
        "type(num_speakers)"
      ],
      "execution_count": 4,
      "outputs": [
        {
          "output_type": "execute_result",
          "data": {
            "text/plain": [
              "int"
            ]
          },
          "metadata": {
            "tags": []
          },
          "execution_count": 4
        }
      ]
    },
    {
      "metadata": {
        "id": "S3dK0p4A7_Zp",
        "colab_type": "code",
        "colab": {
          "base_uri": "https://localhost:8080/",
          "height": 35
        },
        "outputId": "ed9a46d9-1b57-4951-e457-451bd89a3439"
      },
      "cell_type": "code",
      "source": [
        "print('I bought '+ name)"
      ],
      "execution_count": 8,
      "outputs": [
        {
          "output_type": "stream",
          "text": [
            "I bought Lenovo P2\n"
          ],
          "name": "stdout"
        }
      ]
    },
    {
      "metadata": {
        "id": "5zZnH0b79Tis",
        "colab_type": "code",
        "colab": {
          "base_uri": "https://localhost:8080/",
          "height": 104
        },
        "outputId": "b408a4ad-e1d2-4ebd-e31a-20c23907a0e7"
      },
      "cell_type": "code",
      "source": [
        "# range? -> to get help for a function\n",
        "for i in range(5):\n",
        "  print(i**2)"
      ],
      "execution_count": 10,
      "outputs": [
        {
          "output_type": "stream",
          "text": [
            "0\n",
            "1\n",
            "4\n",
            "9\n",
            "16\n"
          ],
          "name": "stdout"
        }
      ]
    },
    {
      "metadata": {
        "id": "gYJqlbGC-lNl",
        "colab_type": "text"
      },
      "cell_type": "markdown",
      "source": [
        "# List, Tuple, Set, Dict"
      ]
    },
    {
      "metadata": {
        "id": "344zbkRN-rYz",
        "colab_type": "code",
        "colab": {
          "base_uri": "https://localhost:8080/",
          "height": 35
        },
        "outputId": "abab90eb-3eeb-468e-905f-5bc8b799754c"
      },
      "cell_type": "code",
      "source": [
        "#List\n",
        "my_phone = ['Lenovo P2', 5.2, True, 2]\n",
        "print(my_phone)"
      ],
      "execution_count": 11,
      "outputs": [
        {
          "output_type": "stream",
          "text": [
            "['Lenovo P2', 5.2, True, 2]\n"
          ],
          "name": "stdout"
        }
      ]
    },
    {
      "metadata": {
        "id": "WAqf5Auf_joa",
        "colab_type": "code",
        "colab": {
          "base_uri": "https://localhost:8080/",
          "height": 69
        },
        "outputId": "1a9462de-b388-4056-a6e5-482dd1d7a114"
      },
      "cell_type": "code",
      "source": [
        "#some important functions for list\n",
        "a = [1,2,3,4,5]\n",
        "print(a)\n",
        "b = list(map(lambda x: x**2, a))\n",
        "print(b)\n",
        "c = list(filter(lambda x: x%2==0, a))\n",
        "print(c)"
      ],
      "execution_count": 17,
      "outputs": [
        {
          "output_type": "stream",
          "text": [
            "[1, 2, 3, 4, 5]\n",
            "[1, 4, 9, 16, 25]\n",
            "[2, 4]\n"
          ],
          "name": "stdout"
        }
      ]
    },
    {
      "metadata": {
        "id": "h-wxU1Pe-6yc",
        "colab_type": "code",
        "colab": {
          "base_uri": "https://localhost:8080/",
          "height": 52
        },
        "outputId": "3d33785b-0595-4506-d0df-e095d17216cc"
      },
      "cell_type": "code",
      "source": [
        "#Tuple - immutable\n",
        "my_tuple = ('Lenovo P2', 5.2, True, 2)\n",
        "print(type(my_tuple))\n",
        "\n",
        "import time\n",
        "tic = time.time() #Displays current time in seconds\n",
        "toc = time.time()\n",
        "print(\"elapsed time: \",toc - tic)"
      ],
      "execution_count": 18,
      "outputs": [
        {
          "output_type": "stream",
          "text": [
            "<class 'tuple'>\n",
            "elapsed time:  1.9788742065429688e-05\n"
          ],
          "name": "stdout"
        }
      ]
    },
    {
      "metadata": {
        "id": "fxXqXlduAnC_",
        "colab_type": "code",
        "colab": {
          "base_uri": "https://localhost:8080/",
          "height": 35
        },
        "outputId": "b45a9270-dbee-4211-ed4e-7dab2549e198"
      },
      "cell_type": "code",
      "source": [
        "#The advantage of other data structures over list is the time lapse of execution\n",
        "my_list = list(range(1000000))\n",
        "tic = time.time()\n",
        "my_list_squared = list(map(lambda x: x**2, my_list))\n",
        "toc = time.time()\n",
        "print(\"Elapsed time: \", toc-tic)"
      ],
      "execution_count": 22,
      "outputs": [
        {
          "output_type": "stream",
          "text": [
            "Elapsed time:  0.3972923755645752\n"
          ],
          "name": "stdout"
        }
      ]
    },
    {
      "metadata": {
        "id": "1Om5pdc8BgJB",
        "colab_type": "code",
        "colab": {
          "base_uri": "https://localhost:8080/",
          "height": 35
        },
        "outputId": "d216d7bc-048b-4f13-8519-36fbe5107bc8"
      },
      "cell_type": "code",
      "source": [
        "my_tuple = tuple(range(1000000))\n",
        "tic = time.time()\n",
        "my_tuple_squared = tuple(map(lambda x: x**2, my_tuple))\n",
        "toc = time.time()\n",
        "print(\"Elapsed time for tuple: \", toc-tic)"
      ],
      "execution_count": 23,
      "outputs": [
        {
          "output_type": "stream",
          "text": [
            "Elapsed time for tuple:  0.38971567153930664\n"
          ],
          "name": "stdout"
        }
      ]
    },
    {
      "metadata": {
        "id": "Ph3PDuMzB--W",
        "colab_type": "code",
        "colab": {
          "base_uri": "https://localhost:8080/",
          "height": 35
        },
        "outputId": "9ce7d8f9-0055-405e-f6e2-ce79bcd9625c"
      },
      "cell_type": "code",
      "source": [
        "#sets don't have duplicates\n",
        "my_phone_set = {'Lenovo P2',5.2, True, 2}\n",
        "my_phone_set.add(2)\n",
        "print(my_phone_set) #contains only one 2"
      ],
      "execution_count": 26,
      "outputs": [
        {
          "output_type": "stream",
          "text": [
            "{'Lenovo P2', True, 2, 5.2}\n"
          ],
          "name": "stdout"
        }
      ]
    },
    {
      "metadata": {
        "id": "Z7ZoUqJwCegE",
        "colab_type": "code",
        "colab": {
          "base_uri": "https://localhost:8080/",
          "height": 156
        },
        "outputId": "0fbe6160-604d-4706-be79-331a51e0364c"
      },
      "cell_type": "code",
      "source": [
        "#Dict - contains key value pairs\n",
        "my_phone_dict = dict()\n",
        "my_phone_dict['model'] = 'Lenovo P2'\n",
        "my_phone_dict['screen_size'] = 5.2\n",
        "my_phone_dict['Is_Android'] = True\n",
        "my_phone_dict['num_speakers'] = 2\n",
        "\n",
        "print(my_phone_dict)\n",
        "print(\"Keys: \", my_phone_dict.keys())\n",
        "print(\"Values: \", my_phone_dict.values())\n",
        "print(\"Items: \", my_phone_dict.items())\n",
        "\n",
        "for key in my_phone_dict.keys():\n",
        "  print(key, my_phone_dict[key])"
      ],
      "execution_count": 32,
      "outputs": [
        {
          "output_type": "stream",
          "text": [
            "{'model': 'Lenovo P2', 'screen_size': 5.2, 'Is_Android': True, 'num_speakers': 2}\n",
            "Keys:  dict_keys(['model', 'screen_size', 'Is_Android', 'num_speakers'])\n",
            "Values:  dict_values(['Lenovo P2', 5.2, True, 2])\n",
            "Items:  dict_items([('model', 'Lenovo P2'), ('screen_size', 5.2), ('Is_Android', True), ('num_speakers', 2)])\n",
            "model Lenovo P2\n",
            "screen_size 5.2\n",
            "Is_Android True\n",
            "num_speakers 2\n"
          ],
          "name": "stdout"
        }
      ]
    },
    {
      "metadata": {
        "id": "XegeYJo4DzLL",
        "colab_type": "code",
        "colab": {}
      },
      "cell_type": "code",
      "source": [
        ""
      ],
      "execution_count": 0,
      "outputs": []
    },
    {
      "metadata": {
        "id": "gAhF6He30BrX",
        "colab_type": "text"
      },
      "cell_type": "markdown",
      "source": [
        "# Packages"
      ]
    },
    {
      "metadata": {
        "id": "Wda-a_s_0P2V",
        "colab_type": "code",
        "colab": {}
      },
      "cell_type": "code",
      "source": [
        "import math"
      ],
      "execution_count": 0,
      "outputs": []
    },
    {
      "metadata": {
        "id": "6KoJ1-jV0nl7",
        "colab_type": "code",
        "colab": {
          "base_uri": "https://localhost:8080/",
          "height": 35
        },
        "outputId": "6abcdc15-ea80-4b7f-8e84-9ce63e9e8b46"
      },
      "cell_type": "code",
      "source": [
        "math.sqrt(100)"
      ],
      "execution_count": 2,
      "outputs": [
        {
          "output_type": "execute_result",
          "data": {
            "text/plain": [
              "10.0"
            ]
          },
          "metadata": {
            "tags": []
          },
          "execution_count": 2
        }
      ]
    },
    {
      "metadata": {
        "id": "TO23g9YZ1DkQ",
        "colab_type": "code",
        "colab": {
          "base_uri": "https://localhost:8080/",
          "height": 35
        },
        "outputId": "af7b6a97-3ade-4a4e-f192-7f7ebe2fa242"
      },
      "cell_type": "code",
      "source": [
        "a = math.factorial(5)\n",
        "print(a)"
      ],
      "execution_count": 4,
      "outputs": [
        {
          "output_type": "stream",
          "text": [
            "120\n"
          ],
          "name": "stdout"
        }
      ]
    },
    {
      "metadata": {
        "id": "h4ii6jF-1j_O",
        "colab_type": "code",
        "colab": {
          "base_uri": "https://localhost:8080/",
          "height": 52
        },
        "outputId": "133e3494-7ee2-4e29-87e3-e06ef7683d42"
      },
      "cell_type": "code",
      "source": [
        "import time \n",
        "x = list(range(1,100))\n",
        "tic = time.time()\n",
        "for i in x:\n",
        "  y = 1\n",
        "  for j in range(1,i):\n",
        "    y *= j;\n",
        "toc = time.time()    \n",
        "print(\"Elapsed time with our own: \", toc-tic)\n",
        "\n",
        "x = list(range(1,100))\n",
        "tic = time.time()\n",
        "for i in x:\n",
        "  math.factorial(i)\n",
        "toc = time.time()    \n",
        "print(\"Elapsed time with library: \", toc-tic)\n"
      ],
      "execution_count": 6,
      "outputs": [
        {
          "output_type": "stream",
          "text": [
            "Elapsed time with our own:  0.0008380413055419922\n",
            "Elapsed time with library:  0.00017690658569335938\n"
          ],
          "name": "stdout"
        }
      ]
    },
    {
      "metadata": {
        "id": "x17FwY373jlc",
        "colab_type": "code",
        "colab": {}
      },
      "cell_type": "code",
      "source": [
        "!echo \"def hello(name):\" > my_own_module.py\n",
        "!echo \"    print('Hey ',name, 'Im living in another file')\" >> my_own_module.py"
      ],
      "execution_count": 0,
      "outputs": []
    },
    {
      "metadata": {
        "id": "g7aM2FjR4S-X",
        "colab_type": "code",
        "colab": {
          "base_uri": "https://localhost:8080/",
          "height": 35
        },
        "outputId": "3c91f933-0ac9-4ed3-dfcf-5321ded65362"
      },
      "cell_type": "code",
      "source": [
        "from my_own_module import hello\n",
        "hello('Ariv')"
      ],
      "execution_count": 11,
      "outputs": [
        {
          "output_type": "stream",
          "text": [
            "Hey  Ariv Im living in another file\n"
          ],
          "name": "stdout"
        }
      ]
    },
    {
      "metadata": {
        "id": "6DmX59JF5wyG",
        "colab_type": "text"
      },
      "cell_type": "markdown",
      "source": [
        "#File Handling"
      ]
    },
    {
      "metadata": {
        "id": "aknhXUVg50c6",
        "colab_type": "code",
        "colab": {}
      },
      "cell_type": "code",
      "source": [
        "file = open('mobile_cleaned.csv','r')\n",
        "s = file.readline()\n",
        "print(s)\n",
        "s.split(',')"
      ],
      "execution_count": 0,
      "outputs": []
    },
    {
      "metadata": {
        "id": "85Bhz0NM82Gj",
        "colab_type": "code",
        "colab": {}
      },
      "cell_type": "code",
      "source": [
        "file.close()"
      ],
      "execution_count": 0,
      "outputs": []
    },
    {
      "metadata": {
        "id": "bI5Uk9jP85kv",
        "colab_type": "code",
        "colab": {
          "base_uri": "https://localhost:8080/",
          "height": 166
        },
        "outputId": "bef12905-aa44-46fb-f377-cbce7b6e608a"
      },
      "cell_type": "code",
      "source": [
        "a = file.readline() #wont work as file is closed"
      ],
      "execution_count": 29,
      "outputs": [
        {
          "output_type": "error",
          "ename": "ValueError",
          "evalue": "ignored",
          "traceback": [
            "\u001b[0;31m---------------------------------------------------------------------------\u001b[0m",
            "\u001b[0;31mValueError\u001b[0m                                Traceback (most recent call last)",
            "\u001b[0;32m<ipython-input-29-0fd698dac5ee>\u001b[0m in \u001b[0;36m<module>\u001b[0;34m()\u001b[0m\n\u001b[0;32m----> 1\u001b[0;31m \u001b[0ma\u001b[0m \u001b[0;34m=\u001b[0m \u001b[0mfile\u001b[0m\u001b[0;34m.\u001b[0m\u001b[0mreadline\u001b[0m\u001b[0;34m(\u001b[0m\u001b[0;34m)\u001b[0m\u001b[0;34m\u001b[0m\u001b[0;34m\u001b[0m\u001b[0m\n\u001b[0m",
            "\u001b[0;31mValueError\u001b[0m: I/O operation on closed file."
          ]
        }
      ]
    },
    {
      "metadata": {
        "id": "bdWANJXA9dkn",
        "colab_type": "code",
        "colab": {}
      },
      "cell_type": "code",
      "source": [
        "# Safer way to access file is using 'with' as file will be closed automatically outside with block\n",
        "with open('mobile_cleaned.csv', 'r') as file:\n",
        "  for line in file:\n",
        "    for word in line.split(','):\n",
        "      print(word)\n",
        "    print('*******EOL*******')"
      ],
      "execution_count": 0,
      "outputs": []
    },
    {
      "metadata": {
        "id": "IluE1R29-XI0",
        "colab_type": "code",
        "colab": {}
      },
      "cell_type": "code",
      "source": [
        "# to write into a file\n",
        "with open('sample_file', 'w') as file:\n",
        "  file.write('Hello World!')\n"
      ],
      "execution_count": 0,
      "outputs": []
    },
    {
      "metadata": {
        "id": "xyEGEjKx-zbW",
        "colab_type": "code",
        "colab": {
          "base_uri": "https://localhost:8080/",
          "height": 35
        },
        "outputId": "9d1f8f48-7624-40f3-f87b-ad5b335343ce"
      },
      "cell_type": "code",
      "source": [
        "!cat sample_file"
      ],
      "execution_count": 33,
      "outputs": [
        {
          "output_type": "stream",
          "text": [
            "Hello World!"
          ],
          "name": "stdout"
        }
      ]
    },
    {
      "metadata": {
        "id": "timC9OQX9ZXP",
        "colab_type": "text"
      },
      "cell_type": "markdown",
      "source": [
        ""
      ]
    },
    {
      "metadata": {
        "id": "OI8hi9Yl_dtT",
        "colab_type": "text"
      },
      "cell_type": "markdown",
      "source": [
        "#Python Classes\n"
      ]
    },
    {
      "metadata": {
        "id": "YvTT6TpX_jKB",
        "colab_type": "code",
        "colab": {}
      },
      "cell_type": "code",
      "source": [
        "class mobilePhone:\n",
        "  \"\"\"This is a sample class mobilePhone\"\"\"\n",
        "  def __init__(self, name, is_android = True, screen_size = 5.2):\n",
        "    self.name = name\n",
        "    self.is_android = is_android\n",
        "    self.screen_size = screen_size\n",
        "    self.rating = 0\n",
        "  \n",
        "  def has_rating(self):\n",
        "    return self.rating > 0"
      ],
      "execution_count": 0,
      "outputs": []
    },
    {
      "metadata": {
        "id": "iPzx92hS_4n5",
        "colab_type": "code",
        "colab": {}
      },
      "cell_type": "code",
      "source": [
        "new_phone1 = mobilePhone('Lenovo P2')\n"
      ],
      "execution_count": 0,
      "outputs": []
    },
    {
      "metadata": {
        "id": "rs_XjRsMCNQp",
        "colab_type": "code",
        "colab": {}
      },
      "cell_type": "code",
      "source": [
        ""
      ],
      "execution_count": 0,
      "outputs": []
    },
    {
      "metadata": {
        "id": "HqbuJKC_BEuN",
        "colab_type": "code",
        "colab": {
          "base_uri": "https://localhost:8080/",
          "height": 69
        },
        "outputId": "eebe2d3a-b435-4c16-f7a9-f5ee8f86a6ba"
      },
      "cell_type": "code",
      "source": [
        "print(type(new_phone1))\n",
        "print(new_phone1.name, new_phone1.is_android, new_phone1.screen_size)\n",
        "new_phone1.has_rating()\n",
        "\n"
      ],
      "execution_count": 44,
      "outputs": [
        {
          "output_type": "stream",
          "text": [
            "<class '__main__.mobilePhone'>\n",
            "Lenovo P2 True 5.2\n"
          ],
          "name": "stdout"
        },
        {
          "output_type": "execute_result",
          "data": {
            "text/plain": [
              "False"
            ]
          },
          "metadata": {
            "tags": []
          },
          "execution_count": 44
        }
      ]
    },
    {
      "metadata": {
        "id": "zJ6G2PtjCWBU",
        "colab_type": "code",
        "colab": {
          "base_uri": "https://localhost:8080/",
          "height": 35
        },
        "outputId": "b6a5f61e-84b5-4d69-8380-76003fbfb500"
      },
      "cell_type": "code",
      "source": [
        "new_phone1.rating = 3.9\n",
        "new_phone1.has_rating()"
      ],
      "execution_count": 45,
      "outputs": [
        {
          "output_type": "execute_result",
          "data": {
            "text/plain": [
              "True"
            ]
          },
          "metadata": {
            "tags": []
          },
          "execution_count": 45
        }
      ]
    },
    {
      "metadata": {
        "id": "HxwTXZ7pCpF6",
        "colab_type": "code",
        "colab": {
          "base_uri": "https://localhost:8080/",
          "height": 35
        },
        "outputId": "dc08964d-43dc-4c57-e225-fa34930a252f"
      },
      "cell_type": "code",
      "source": [
        "new_phone1.__doc__"
      ],
      "execution_count": 48,
      "outputs": [
        {
          "output_type": "execute_result",
          "data": {
            "text/plain": [
              "'This is a sample class mobilePhone'"
            ]
          },
          "metadata": {
            "tags": []
          },
          "execution_count": 48
        }
      ]
    },
    {
      "metadata": {
        "id": "OwKj_EF4DkIt",
        "colab_type": "code",
        "colab": {}
      },
      "cell_type": "code",
      "source": [
        "#Inheritance\n",
        "class iPhone(mobilePhone):\n",
        "  \"\"\"This is the inherited class\"\"\"\n",
        "  def __init__(self, name):\n",
        "    mobilePhone.__init__(self, name, False, 4)\n",
        "  \n",
        "  def __str__(self):\n",
        "    return self.name + \" \" + str(self.is_android) + \" \" + str(self.screen_size)"
      ],
      "execution_count": 0,
      "outputs": []
    },
    {
      "metadata": {
        "id": "1Z3As4jjErQJ",
        "colab_type": "code",
        "colab": {
          "base_uri": "https://localhost:8080/",
          "height": 35
        },
        "outputId": "34ee11de-34df-42e7-8a7a-92dfafb81af0"
      },
      "cell_type": "code",
      "source": [
        "new_phone2 = iPhone('iPhone X')\n",
        "print(new_phone2)"
      ],
      "execution_count": 56,
      "outputs": [
        {
          "output_type": "stream",
          "text": [
            "iPhone X False 4\n"
          ],
          "name": "stdout"
        }
      ]
    },
    {
      "metadata": {
        "id": "VBA27qKD9eCF",
        "colab_type": "text"
      },
      "cell_type": "markdown",
      "source": [
        "# Numpy"
      ]
    },
    {
      "metadata": {
        "id": "yYywi-Fc9kc7",
        "colab_type": "code",
        "colab": {
          "base_uri": "https://localhost:8080/",
          "height": 35
        },
        "outputId": "0459912a-b3c2-4898-803c-feb7199f0fb2"
      },
      "cell_type": "code",
      "source": [
        "import numpy as np\n",
        "x = np.array([1,2,3])\n",
        "type(x)"
      ],
      "execution_count": 2,
      "outputs": [
        {
          "output_type": "execute_result",
          "data": {
            "text/plain": [
              "numpy.ndarray"
            ]
          },
          "metadata": {
            "tags": []
          },
          "execution_count": 2
        }
      ]
    },
    {
      "metadata": {
        "id": "MgHlA9c89qTk",
        "colab_type": "code",
        "colab": {
          "base_uri": "https://localhost:8080/",
          "height": 35
        },
        "outputId": "47853cca-4653-445e-f63e-7e6a553486b0"
      },
      "cell_type": "code",
      "source": [
        "a = [1,2,3]\n",
        "y = np.asarray(a)\n",
        "print(type(y))"
      ],
      "execution_count": 3,
      "outputs": [
        {
          "output_type": "stream",
          "text": [
            "<class 'numpy.ndarray'>\n"
          ],
          "name": "stdout"
        }
      ]
    },
    {
      "metadata": {
        "id": "xjar-z3j9_9r",
        "colab_type": "code",
        "colab": {
          "base_uri": "https://localhost:8080/",
          "height": 52
        },
        "outputId": "5ae65410-3d6d-426b-9761-b8df7f3dcf55"
      },
      "cell_type": "code",
      "source": [
        "#Create np floating array\n",
        "f = np.array([1,2,3,4,5], float)\n",
        "print(f)\n",
        "print(f.shape)"
      ],
      "execution_count": 5,
      "outputs": [
        {
          "output_type": "stream",
          "text": [
            "[1. 2. 3. 4. 5.]\n",
            "(5,)\n"
          ],
          "name": "stdout"
        }
      ]
    },
    {
      "metadata": {
        "id": "elRT0PWs_FVZ",
        "colab_type": "code",
        "colab": {}
      },
      "cell_type": "code",
      "source": [
        ""
      ],
      "execution_count": 0,
      "outputs": []
    },
    {
      "metadata": {
        "id": "fHgTtrV5-ZNd",
        "colab_type": "code",
        "colab": {
          "base_uri": "https://localhost:8080/",
          "height": 69
        },
        "outputId": "d91bff0b-a979-4811-c7cc-ee025837c32d"
      },
      "cell_type": "code",
      "source": [
        "#np.array? - helper function\n",
        "#2D array\n",
        "X = np.array([[1,2,3],[4,5,6]])\n",
        "print(X)\n",
        "print(X.shape)"
      ],
      "execution_count": 7,
      "outputs": [
        {
          "output_type": "stream",
          "text": [
            "[[1 2 3]\n",
            " [4 5 6]]\n",
            "(2, 3)\n"
          ],
          "name": "stdout"
        }
      ]
    },
    {
      "metadata": {
        "id": "gJNjEZIG_GsH",
        "colab_type": "code",
        "colab": {
          "base_uri": "https://localhost:8080/",
          "height": 52
        },
        "outputId": "f285afc1-e21e-44a3-fc70-c1f236c2d363"
      },
      "cell_type": "code",
      "source": [
        "#Indexing\n",
        "print(X[1,2])\n",
        "X[0,0:2]"
      ],
      "execution_count": 10,
      "outputs": [
        {
          "output_type": "stream",
          "text": [
            "6\n"
          ],
          "name": "stdout"
        },
        {
          "output_type": "execute_result",
          "data": {
            "text/plain": [
              "array([1, 2])"
            ]
          },
          "metadata": {
            "tags": []
          },
          "execution_count": 10
        }
      ]
    },
    {
      "metadata": {
        "id": "MmtmpVZ8_6k7",
        "colab_type": "code",
        "colab": {
          "base_uri": "https://localhost:8080/",
          "height": 69
        },
        "outputId": "d7bb868c-8df0-4a1c-fa57-b850c99ee277"
      },
      "cell_type": "code",
      "source": [
        "x = np.zeros((3,4))\n",
        "print(x)"
      ],
      "execution_count": 14,
      "outputs": [
        {
          "output_type": "stream",
          "text": [
            "[[0. 0. 0. 0.]\n",
            " [0. 0. 0. 0.]\n",
            " [0. 0. 0. 0.]]\n"
          ],
          "name": "stdout"
        }
      ]
    },
    {
      "metadata": {
        "id": "wbHfIUZJARAM",
        "colab_type": "code",
        "colab": {
          "base_uri": "https://localhost:8080/",
          "height": 87
        },
        "outputId": "9bd5868b-d9eb-4959-95bb-faf7b15d257f"
      },
      "cell_type": "code",
      "source": [
        "y = np.eye(4,4)\n",
        "print(y)"
      ],
      "execution_count": 15,
      "outputs": [
        {
          "output_type": "stream",
          "text": [
            "[[1. 0. 0. 0.]\n",
            " [0. 1. 0. 0.]\n",
            " [0. 0. 1. 0.]\n",
            " [0. 0. 0. 1.]]\n"
          ],
          "name": "stdout"
        }
      ]
    },
    {
      "metadata": {
        "id": "Q5oei_a1Abwm",
        "colab_type": "code",
        "colab": {
          "base_uri": "https://localhost:8080/",
          "height": 87
        },
        "outputId": "be327e7d-74a3-400a-c1d4-e7c66f3a9781"
      },
      "cell_type": "code",
      "source": [
        "X = np.random.random((4,5))\n",
        "print(X)"
      ],
      "execution_count": 16,
      "outputs": [
        {
          "output_type": "stream",
          "text": [
            "[[0.27158384 0.4554436  0.88804069 0.59414402 0.62545305]\n",
            " [0.99881875 0.85812244 0.73077672 0.95058425 0.06450243]\n",
            " [0.3641515  0.81736965 0.82660309 0.92693648 0.67207262]\n",
            " [0.92845177 0.80750581 0.84453978 0.63677063 0.23437361]]\n"
          ],
          "name": "stdout"
        }
      ]
    },
    {
      "metadata": {
        "id": "oEMBkNsUAlzb",
        "colab_type": "code",
        "colab": {
          "base_uri": "https://localhost:8080/",
          "height": 52
        },
        "outputId": "7ad1eb9b-4cab-46e8-836d-e1e9a9d1792d"
      },
      "cell_type": "code",
      "source": [
        "Y = X.T\n",
        "print(Y.shape)\n",
        "\n",
        "Z = X.reshape(20,1)\n",
        "print(Z.shape)"
      ],
      "execution_count": 17,
      "outputs": [
        {
          "output_type": "stream",
          "text": [
            "(5, 4)\n",
            "(20, 1)\n"
          ],
          "name": "stdout"
        }
      ]
    },
    {
      "metadata": {
        "id": "-e5DEZTsBJS_",
        "colab_type": "code",
        "colab": {
          "base_uri": "https://localhost:8080/",
          "height": 52
        },
        "outputId": "f2938dc5-60b0-40a1-8da3-e060a713cb85"
      },
      "cell_type": "code",
      "source": [
        "A = np.arange(5)\n",
        "B = np.arange(5)\n",
        "print(A)\n",
        "print(B)"
      ],
      "execution_count": 18,
      "outputs": [
        {
          "output_type": "stream",
          "text": [
            "[0 1 2 3 4]\n",
            "[0 1 2 3 4]\n"
          ],
          "name": "stdout"
        }
      ]
    },
    {
      "metadata": {
        "id": "d6GuexvSBREh",
        "colab_type": "code",
        "colab": {
          "base_uri": "https://localhost:8080/",
          "height": 35
        },
        "outputId": "b3d664f9-26d0-4977-e0f3-bcb87c534e1d"
      },
      "cell_type": "code",
      "source": [
        "C = A + B\n",
        "D = A - B\n",
        "E = A * B\n",
        "print(C, D, E)"
      ],
      "execution_count": 19,
      "outputs": [
        {
          "output_type": "stream",
          "text": [
            "[0 2 4 6 8] [0 0 0 0 0] [ 0  1  4  9 16]\n"
          ],
          "name": "stdout"
        }
      ]
    },
    {
      "metadata": {
        "id": "aFhcVJp4BxDm",
        "colab_type": "code",
        "colab": {
          "base_uri": "https://localhost:8080/",
          "height": 121
        },
        "outputId": "c41a4c5f-de2c-42cd-8271-793e51fc5962"
      },
      "cell_type": "code",
      "source": [
        "#Broadcasting\n",
        "A = np.random.random((3,4))\n",
        "print(A)\n",
        "B = A + 1 #Adding scalar to all elements - broadcasting\n",
        "print(B)"
      ],
      "execution_count": 20,
      "outputs": [
        {
          "output_type": "stream",
          "text": [
            "[[0.9587131  0.10842941 0.57237649 0.99654794]\n",
            " [0.05207651 0.54121174 0.30480404 0.63820925]\n",
            " [0.74182403 0.88946621 0.60434547 0.10724791]]\n",
            "[[1.9587131  1.10842941 1.57237649 1.99654794]\n",
            " [1.05207651 1.54121174 1.30480404 1.63820925]\n",
            " [1.74182403 1.88946621 1.60434547 1.10724791]]\n"
          ],
          "name": "stdout"
        }
      ]
    },
    {
      "metadata": {
        "id": "Rpv8VKdaCLkI",
        "colab_type": "code",
        "colab": {
          "base_uri": "https://localhost:8080/",
          "height": 69
        },
        "outputId": "85a42258-6b2e-424f-e001-d75950eb96f6"
      },
      "cell_type": "code",
      "source": [
        "# If we need integers as random values b/w 0-9\n",
        "X = np.floor(np.random.random((3,4))*10)\n",
        "print(X)"
      ],
      "execution_count": 24,
      "outputs": [
        {
          "output_type": "stream",
          "text": [
            "[[7. 5. 4. 8.]\n",
            " [4. 3. 7. 1.]\n",
            " [7. 7. 7. 7.]]\n"
          ],
          "name": "stdout"
        }
      ]
    },
    {
      "metadata": {
        "id": "L2x6YEZRESo2",
        "colab_type": "code",
        "colab": {
          "base_uri": "https://localhost:8080/",
          "height": 35
        },
        "outputId": "2e9ca302-ae34-4bef-b7e3-19ff079954b0"
      },
      "cell_type": "code",
      "source": [
        "#Linear Algebra Operations\n",
        "A = [1,2,3]\n",
        "B = [-1,0,1]\n",
        "#C = np.inner(A,B) #element wise multiplication and addition - returns a scalar\n",
        "print(C)"
      ],
      "execution_count": 32,
      "outputs": [
        {
          "output_type": "stream",
          "text": [
            "2\n"
          ],
          "name": "stdout"
        }
      ]
    },
    {
      "metadata": {
        "id": "g4M5vqq7Ep0y",
        "colab_type": "code",
        "colab": {
          "base_uri": "https://localhost:8080/",
          "height": 69
        },
        "outputId": "aa07d26a-36d5-47e8-d1b0-3bda0352b36f"
      },
      "cell_type": "code",
      "source": [
        "D = np.outer(A,B) #takes each element and multiplies it with the second vector without adding the result.\n",
        "print(D)"
      ],
      "execution_count": 33,
      "outputs": [
        {
          "output_type": "stream",
          "text": [
            "[[-1  0  1]\n",
            " [-2  0  2]\n",
            " [-3  0  3]]\n"
          ],
          "name": "stdout"
        }
      ]
    },
    {
      "metadata": {
        "id": "5RrqhA8IFPWa",
        "colab_type": "code",
        "colab": {
          "base_uri": "https://localhost:8080/",
          "height": 52
        },
        "outputId": "8eeb7db4-18f5-4aad-ec5c-dda8928b47f6"
      },
      "cell_type": "code",
      "source": [
        "#Dot product of two matrices\n",
        "A = np.ones((2,3))\n",
        "B = np.ones((3,2))\n",
        "C = np.dot(A,B)\n",
        "print(C)"
      ],
      "execution_count": 35,
      "outputs": [
        {
          "output_type": "stream",
          "text": [
            "[[3. 3.]\n",
            " [3. 3.]]\n"
          ],
          "name": "stdout"
        }
      ]
    },
    {
      "metadata": {
        "id": "S3ahBXs2F7lN",
        "colab_type": "code",
        "colab": {
          "base_uri": "https://localhost:8080/",
          "height": 35
        },
        "outputId": "626e2c33-01e0-4fa9-97cd-dae7576a10f6"
      },
      "cell_type": "code",
      "source": [
        "#Individual matrix operations\n",
        "A = np.floor(np.random.random((2,3))*10)\n",
        "A.sum()"
      ],
      "execution_count": 36,
      "outputs": [
        {
          "output_type": "execute_result",
          "data": {
            "text/plain": [
              "33.0"
            ]
          },
          "metadata": {
            "tags": []
          },
          "execution_count": 36
        }
      ]
    },
    {
      "metadata": {
        "id": "sv9hi848GRBU",
        "colab_type": "code",
        "colab": {
          "base_uri": "https://localhost:8080/",
          "height": 104
        },
        "outputId": "90b32894-4077-4c28-fcc5-e87865980e90"
      },
      "cell_type": "code",
      "source": [
        "print(A)\n",
        "print(A.max())\n",
        "print(A.sum(axis=0))\n",
        "print(A.sum(axis=1))"
      ],
      "execution_count": 40,
      "outputs": [
        {
          "output_type": "stream",
          "text": [
            "[[5. 9. 7.]\n",
            " [6. 4. 2.]]\n",
            "9.0\n",
            "[11. 13.  9.]\n",
            "[21. 12.]\n"
          ],
          "name": "stdout"
        }
      ]
    },
    {
      "metadata": {
        "id": "2eTTWvp0HSK9",
        "colab_type": "text"
      },
      "cell_type": "markdown",
      "source": [
        "#Plotting"
      ]
    },
    {
      "metadata": {
        "id": "KwBZe_6ZHVHP",
        "colab_type": "code",
        "colab": {}
      },
      "cell_type": "code",
      "source": [
        "import matplotlib.pyplot as plt\n"
      ],
      "execution_count": 0,
      "outputs": []
    },
    {
      "metadata": {
        "id": "aHfJQKKbHvBl",
        "colab_type": "code",
        "colab": {
          "base_uri": "https://localhost:8080/",
          "height": 191
        },
        "outputId": "ccf12659-02f4-4a97-f12b-67f8cc9d360b"
      },
      "cell_type": "code",
      "source": [
        "x = np.random.random((10,1))\n",
        "print(x)"
      ],
      "execution_count": 42,
      "outputs": [
        {
          "output_type": "stream",
          "text": [
            "[[0.99776006]\n",
            " [0.07421855]\n",
            " [0.35975654]\n",
            " [0.76003038]\n",
            " [0.36687337]\n",
            " [0.45259305]\n",
            " [0.1146469 ]\n",
            " [0.43040691]\n",
            " [0.66402081]\n",
            " [0.61503188]]\n"
          ],
          "name": "stdout"
        }
      ]
    },
    {
      "metadata": {
        "id": "cMA-3FsEH9uB",
        "colab_type": "code",
        "colab": {
          "base_uri": "https://localhost:8080/",
          "height": 347
        },
        "outputId": "077b2675-0929-4a8e-d300-63286efd4a33"
      },
      "cell_type": "code",
      "source": [
        "plt.plot(x) # indices along x axis and values along y axis\n",
        "plt.show()"
      ],
      "execution_count": 43,
      "outputs": [
        {
          "output_type": "display_data",
          "data": {
            "image/png": "[encoded data removed]",
            "text/plain": [
              "<Figure size 576x396 with 1 Axes>"
            ]
          },
          "metadata": {
            "tags": []
          }
        }
      ]
    },
    {
      "metadata": {
        "id": "b-ZooGNHK3VU",
        "colab_type": "code",
        "colab": {}
      },
      "cell_type": "code",
      "source": [
        ""
      ],
      "execution_count": 0,
      "outputs": []
    },
    {
      "metadata": {
        "id": "W1qCiSiZIKbr",
        "colab_type": "code",
        "colab": {
          "base_uri": "https://localhost:8080/",
          "height": 347
        },
        "outputId": "ba7ce544-ca9a-4034-88ae-8bb151e09ca9"
      },
      "cell_type": "code",
      "source": [
        "plt.plot(x, '*') # plots with * \n",
        "plt.show()"
      ],
      "execution_count": 45,
      "outputs": [
        {
          "output_type": "display_data",
          "data": {
            "image/png": "[encoded data removed]",
            "text/plain": [
              "<Figure size 576x396 with 1 Axes>"
            ]
          },
          "metadata": {
            "tags": []
          }
        }
      ]
    },
    {
      "metadata": {
        "id": "uA1TG7sOK4oD",
        "colab_type": "code",
        "colab": {
          "base_uri": "https://localhost:8080/",
          "height": 275
        },
        "outputId": "f4ab25d4-cd3c-40e5-ba04-fe42738f8149"
      },
      "cell_type": "code",
      "source": [
        "import numpy as np\n",
        "import matplotlib.pyplot as plt\n",
        "#Plotting with 2 axes\n",
        "x = np.linspace(0,100,100) # 100 points b/w 0-100 in linear space\n",
        "y = np.sqrt(x)\n",
        "plt.plot(x,y, '+')\n",
        "plt.show()"
      ],
      "execution_count": 11,
      "outputs": [
        {
          "output_type": "display_data",
          "data": {
            "image/png": "[encoded data removed]",
            "text/plain": [
              "<Figure size 432x288 with 1 Axes>"
            ]
          },
          "metadata": {
            "tags": []
          }
        }
      ]
    },
    {
      "metadata": {
        "id": "TS6g4ThsLUm8",
        "colab_type": "code",
        "colab": {}
      },
      "cell_type": "code",
      "source": [
        "import seaborn as sns\n",
        "sns.set()\n"
      ],
      "execution_count": 0,
      "outputs": []
    },
    {
      "metadata": {
        "id": "dT3CPKc1LZRp",
        "colab_type": "code",
        "colab": {
          "base_uri": "https://localhost:8080/",
          "height": 292
        },
        "outputId": "31115c80-800f-4246-e5a7-e51ccfa48714"
      },
      "cell_type": "code",
      "source": [
        "sns.lineplot(x,y)"
      ],
      "execution_count": 10,
      "outputs": [
        {
          "output_type": "execute_result",
          "data": {
            "text/plain": [
              "<matplotlib.axes._subplots.AxesSubplot at 0x7ff5d4f9ef28>"
            ]
          },
          "metadata": {
            "tags": []
          },
          "execution_count": 10
        },
        {
          "output_type": "display_data",
          "data": {
            "image/png": "[encoded data removed]",
            "text/plain": [
              "<Figure size 432x288 with 1 Axes>"
            ]
          },
          "metadata": {
            "tags": []
          }
        }
      ]
    },
    {
      "metadata": {
        "id": "BauLeFRWLrJ_",
        "colab_type": "code",
        "colab": {
          "base_uri": "https://localhost:8080/",
          "height": 251
        },
        "outputId": "de589543-8de2-42b0-edab-d82e9a518fcf"
      },
      "cell_type": "code",
      "source": [
        "import pandas as pd\n",
        "data = pd.read_csv(\"mobile_cleaned.csv\")\n",
        "data.head()"
      ],
      "execution_count": 13,
      "outputs": [
        {
          "output_type": "execute_result",
          "data": {
            "text/html": [
              "<div>\n",
              "<style scoped>\n",
              "    .dataframe tbody tr th:only-of-type {\n",
              "        vertical-align: middle;\n",
              "    }\n",
              "\n",
              "    .dataframe tbody tr th {\n",
              "        vertical-align: top;\n",
              "    }\n",
              "\n",
              "    .dataframe thead th {\n",
              "        text-align: right;\n",
              "    }\n",
              "</style>\n",
              "<table border=\"1\" class=\"dataframe\">\n",
              "  <thead>\n",
              "    <tr style=\"text-align: right;\">\n",
              "      <th></th>\n",
              "      <th>sim_type</th>\n",
              "      <th>aperture</th>\n",
              "      <th>gpu_rank</th>\n",
              "      <th>weight</th>\n",
              "      <th>stand_by_time</th>\n",
              "      <th>processor_frequency</th>\n",
              "      <th>thickness</th>\n",
              "      <th>flash_type</th>\n",
              "      <th>front_camera_resolution</th>\n",
              "      <th>auto_focus</th>\n",
              "      <th>...</th>\n",
              "      <th>micro_sd_slot</th>\n",
              "      <th>screen_pixel_density</th>\n",
              "      <th>water_proof_rate</th>\n",
              "      <th>phone_width</th>\n",
              "      <th>expandable_memory</th>\n",
              "      <th>version</th>\n",
              "      <th>usb_type</th>\n",
              "      <th>battery_capacity</th>\n",
              "      <th>processor_rank</th>\n",
              "      <th>is_liked</th>\n",
              "    </tr>\n",
              "  </thead>\n",
              "  <tbody>\n",
              "    <tr>\n",
              "      <th>0</th>\n",
              "      <td>0</td>\n",
              "      <td>12</td>\n",
              "      <td>55</td>\n",
              "      <td>155.0</td>\n",
              "      <td>250</td>\n",
              "      <td>1.3</td>\n",
              "      <td>10.5</td>\n",
              "      <td>5</td>\n",
              "      <td>2.00</td>\n",
              "      <td>0</td>\n",
              "      <td>...</td>\n",
              "      <td>4</td>\n",
              "      <td>2</td>\n",
              "      <td>3</td>\n",
              "      <td>67.8</td>\n",
              "      <td>64.0</td>\n",
              "      <td>5</td>\n",
              "      <td>3</td>\n",
              "      <td>2000</td>\n",
              "      <td>125</td>\n",
              "      <td>1</td>\n",
              "    </tr>\n",
              "    <tr>\n",
              "      <th>1</th>\n",
              "      <td>0</td>\n",
              "      <td>1</td>\n",
              "      <td>55</td>\n",
              "      <td>132.0</td>\n",
              "      <td>300</td>\n",
              "      <td>1.3</td>\n",
              "      <td>10.6</td>\n",
              "      <td>5</td>\n",
              "      <td>0.30</td>\n",
              "      <td>1</td>\n",
              "      <td>...</td>\n",
              "      <td>4</td>\n",
              "      <td>4</td>\n",
              "      <td>6</td>\n",
              "      <td>64.0</td>\n",
              "      <td>32.0</td>\n",
              "      <td>5</td>\n",
              "      <td>3</td>\n",
              "      <td>2000</td>\n",
              "      <td>165</td>\n",
              "      <td>1</td>\n",
              "    </tr>\n",
              "    <tr>\n",
              "      <th>2</th>\n",
              "      <td>0</td>\n",
              "      <td>9</td>\n",
              "      <td>55</td>\n",
              "      <td>142.0</td>\n",
              "      <td>329</td>\n",
              "      <td>1.5</td>\n",
              "      <td>8.5</td>\n",
              "      <td>5</td>\n",
              "      <td>2.00</td>\n",
              "      <td>3</td>\n",
              "      <td>...</td>\n",
              "      <td>4</td>\n",
              "      <td>9</td>\n",
              "      <td>6</td>\n",
              "      <td>72.0</td>\n",
              "      <td>32.0</td>\n",
              "      <td>6</td>\n",
              "      <td>3</td>\n",
              "      <td>2500</td>\n",
              "      <td>164</td>\n",
              "      <td>0</td>\n",
              "    </tr>\n",
              "    <tr>\n",
              "      <th>3</th>\n",
              "      <td>0</td>\n",
              "      <td>8</td>\n",
              "      <td>55</td>\n",
              "      <td>152.0</td>\n",
              "      <td>385</td>\n",
              "      <td>1.3</td>\n",
              "      <td>8.0</td>\n",
              "      <td>5</td>\n",
              "      <td>2.00</td>\n",
              "      <td>3</td>\n",
              "      <td>...</td>\n",
              "      <td>4</td>\n",
              "      <td>1</td>\n",
              "      <td>3</td>\n",
              "      <td>75.1</td>\n",
              "      <td>32.0</td>\n",
              "      <td>6</td>\n",
              "      <td>3</td>\n",
              "      <td>3000</td>\n",
              "      <td>165</td>\n",
              "      <td>1</td>\n",
              "    </tr>\n",
              "    <tr>\n",
              "      <th>4</th>\n",
              "      <td>1</td>\n",
              "      <td>1</td>\n",
              "      <td>55</td>\n",
              "      <td>234.0</td>\n",
              "      <td>385</td>\n",
              "      <td>1.3</td>\n",
              "      <td>7.9</td>\n",
              "      <td>5</td>\n",
              "      <td>1.92</td>\n",
              "      <td>3</td>\n",
              "      <td>...</td>\n",
              "      <td>4</td>\n",
              "      <td>1</td>\n",
              "      <td>6</td>\n",
              "      <td>91.0</td>\n",
              "      <td>32.0</td>\n",
              "      <td>6</td>\n",
              "      <td>3</td>\n",
              "      <td>3000</td>\n",
              "      <td>165</td>\n",
              "      <td>0</td>\n",
              "    </tr>\n",
              "  </tbody>\n",
              "</table>\n",
              "<p>5 rows × 40 columns</p>\n",
              "</div>"
            ],
            "text/plain": [
              "   sim_type  aperture  gpu_rank  weight  stand_by_time  processor_frequency  \\\n",
              "0         0        12        55   155.0            250                  1.3   \n",
              "1         0         1        55   132.0            300                  1.3   \n",
              "2         0         9        55   142.0            329                  1.5   \n",
              "3         0         8        55   152.0            385                  1.3   \n",
              "4         1         1        55   234.0            385                  1.3   \n",
              "\n",
              "   thickness  flash_type  front_camera_resolution  auto_focus    ...     \\\n",
              "0       10.5           5                     2.00           0    ...      \n",
              "1       10.6           5                     0.30           1    ...      \n",
              "2        8.5           5                     2.00           3    ...      \n",
              "3        8.0           5                     2.00           3    ...      \n",
              "4        7.9           5                     1.92           3    ...      \n",
              "\n",
              "   micro_sd_slot  screen_pixel_density  water_proof_rate  phone_width  \\\n",
              "0              4                     2                 3         67.8   \n",
              "1              4                     4                 6         64.0   \n",
              "2              4                     9                 6         72.0   \n",
              "3              4                     1                 3         75.1   \n",
              "4              4                     1                 6         91.0   \n",
              "\n",
              "   expandable_memory  version  usb_type  battery_capacity  processor_rank  \\\n",
              "0               64.0        5         3              2000             125   \n",
              "1               32.0        5         3              2000             165   \n",
              "2               32.0        6         3              2500             164   \n",
              "3               32.0        6         3              3000             165   \n",
              "4               32.0        6         3              3000             165   \n",
              "\n",
              "   is_liked  \n",
              "0         1  \n",
              "1         1  \n",
              "2         0  \n",
              "3         1  \n",
              "4         0  \n",
              "\n",
              "[5 rows x 40 columns]"
            ]
          },
          "metadata": {
            "tags": []
          },
          "execution_count": 13
        }
      ]
    },
    {
      "metadata": {
        "id": "mBCTi-2nMkGY",
        "colab_type": "code",
        "colab": {
          "base_uri": "https://localhost:8080/",
          "height": 291
        },
        "outputId": "0bced3b4-13fc-4015-cb5f-078d87dd99e0"
      },
      "cell_type": "code",
      "source": [
        "ax = sns.scatterplot(x='stand_by_time', y='battery_capacity', data=data)"
      ],
      "execution_count": 15,
      "outputs": [
        {
          "output_type": "display_data",
          "data": {
            "image/png": "[encoded data removed]",
            "text/plain": [
              "<Figure size 432x288 with 1 Axes>"
            ]
          },
          "metadata": {
            "tags": []
          }
        }
      ]
    },
    {
      "metadata": {
        "id": "sr9aI_r6NTTU",
        "colab_type": "code",
        "colab": {
          "base_uri": "https://localhost:8080/",
          "height": 291
        },
        "outputId": "e50dccc2-860d-48ff-d620-11e4de8d3dba"
      },
      "cell_type": "code",
      "source": [
        "# Plotting with 3 attributes\n",
        "ax = sns.scatterplot(x='stand_by_time', y='battery_capacity', hue='thickness', data=data)"
      ],
      "execution_count": 16,
      "outputs": [
        {
          "output_type": "display_data",
          "data": {
            "image/png": "[encoded data removed]",
            "text/plain": [
              "<Figure size 432x288 with 1 Axes>"
            ]
          },
          "metadata": {
            "tags": []
          }
        }
      ]
    },
    {
      "metadata": {
        "id": "A4m4RMY9N3VC",
        "colab_type": "code",
        "colab": {
          "base_uri": "https://localhost:8080/",
          "height": 291
        },
        "outputId": "692fd46e-da36-47fb-eb0e-d525d88bfa17"
      },
      "cell_type": "code",
      "source": [
        "#Histogram plot\n",
        "ax = sns.distplot(data['battery_capacity'])"
      ],
      "execution_count": 17,
      "outputs": [
        {
          "output_type": "display_data",
          "data": {
            "image/png": "[encoded data removed]",
            "text/plain": [
              "<Figure size 432x288 with 1 Axes>"
            ]
          },
          "metadata": {
            "tags": []
          }
        }
      ]
    },
    {
      "metadata": {
        "id": "EzBvc3ufO2Kr",
        "colab_type": "code",
        "colab": {
          "base_uri": "https://localhost:8080/",
          "height": 291
        },
        "outputId": "de997281-b024-4218-dc8d-2dacc8bff3e7"
      },
      "cell_type": "code",
      "source": [
        "ax = sns.boxplot(x='is_liked', y='battery_capacity', data=data)"
      ],
      "execution_count": 18,
      "outputs": [
        {
          "output_type": "display_data",
          "data": {
            "image/png": "[encoded data removed]",
            "text/plain": [
              "<Figure size 432x288 with 1 Axes>"
            ]
          },
          "metadata": {
            "tags": []
          }
        }
      ]
    },
    {
      "metadata": {
        "id": "DChbP6xfPawc",
        "colab_type": "code",
        "colab": {
          "base_uri": "https://localhost:8080/",
          "height": 291
        },
        "outputId": "f9193c2e-93d5-4963-a418-8f73f2a6b10d"
      },
      "cell_type": "code",
      "source": [
        "ax = sns.boxplot(x='expandable_memory', y='price', data=data)"
      ],
      "execution_count": 19,
      "outputs": [
        {
          "output_type": "display_data",
          "data": {
            "image/png": "[encoded data removed]",
            "text/plain": [
              "<Figure size 432x288 with 1 Axes>"
            ]
          },
          "metadata": {
            "tags": []
          }
        }
      ]
    },
    {
      "metadata": {
        "id": "lqPDdm22aERw",
        "colab_type": "code",
        "colab": {
          "base_uri": "https://localhost:8080/",
          "height": 364
        },
        "outputId": "ea7b3b43-f87e-41cf-bd4d-d5deec8cc798"
      },
      "cell_type": "code",
      "source": [
        "uniform_data = np.random.rand(10,12)\n",
        "print(uniform_data)"
      ],
      "execution_count": 20,
      "outputs": [
        {
          "output_type": "stream",
          "text": [
            "[[0.72772529 0.84097568 0.98245648 0.40918112 0.82373662 0.45315593\n",
            "  0.32117398 0.6089627  0.96119723 0.93604336 0.36645815 0.33724778]\n",
            " [0.24187481 0.80602513 0.51078424 0.25247321 0.16277974 0.72069415\n",
            "  0.30775742 0.63083437 0.95188459 0.25514876 0.77400031 0.93532664]\n",
            " [0.65265142 0.5208537  0.49333628 0.88194478 0.47943921 0.29132694\n",
            "  0.52728742 0.6222617  0.36403334 0.82880569 0.29917342 0.2423372 ]\n",
            " [0.66581892 0.79304892 0.06720397 0.09207842 0.54225383 0.22073208\n",
            "  0.75646491 0.39484687 0.86683246 0.48622678 0.89134012 0.05497223]\n",
            " [0.16043216 0.42986866 0.05924933 0.19742898 0.14445661 0.41985982\n",
            "  0.87710657 0.61423819 0.07417948 0.57554588 0.64857417 0.54692277]\n",
            " [0.06947471 0.57332437 0.84703911 0.67242664 0.6530161  0.9083032\n",
            "  0.4273748  0.74837324 0.17550578 0.75572252 0.8045443  0.19117182]\n",
            " [0.28858548 0.87992807 0.59697833 0.43217393 0.99625231 0.25832981\n",
            "  0.89267445 0.37105111 0.2400062  0.42586886 0.80697767 0.95732301]\n",
            " [0.17707259 0.20262456 0.85614882 0.75371035 0.66068049 0.85460028\n",
            "  0.71370067 0.33708746 0.71254838 0.05851914 0.57888868 0.95545038]\n",
            " [0.81121697 0.36768287 0.90182619 0.36942486 0.90273292 0.90406486\n",
            "  0.07712269 0.93929437 0.36251727 0.29015325 0.96229119 0.38932074]\n",
            " [0.59666861 0.81044388 0.87445197 0.91772186 0.98556107 0.97518508\n",
            "  0.35493622 0.10944422 0.09904824 0.82437157 0.1392641  0.80369107]]\n"
          ],
          "name": "stdout"
        }
      ]
    },
    {
      "metadata": {
        "id": "Zvd63bOwaPs8",
        "colab_type": "code",
        "colab": {
          "base_uri": "https://localhost:8080/",
          "height": 275
        },
        "outputId": "2e320fa0-b6e4-4077-c8bb-2f71172000be"
      },
      "cell_type": "code",
      "source": [
        "ax = sns.heatmap(uniform_data)"
      ],
      "execution_count": 21,
      "outputs": [
        {
          "output_type": "display_data",
          "data": {
            "image/png": "[encoded data removed]",
            "text/plain": [
              "<Figure size 432x288 with 2 Axes>"
            ]
          },
          "metadata": {
            "tags": []
          }
        }
      ]
    },
    {
      "metadata": {
        "id": "TIDx7bXkbDr0",
        "colab_type": "code",
        "colab": {
          "base_uri": "https://localhost:8080/",
          "height": 208
        },
        "outputId": "888e5bd7-4654-4f6d-f8c1-7f5e3f2851bf"
      },
      "cell_type": "code",
      "source": [
        "#Reading & Plotting images\n",
        "! wget https://www.analyticsinsight.net/wp-content/uploads/2018/05/AI-ML-DL.jpg"
      ],
      "execution_count": 22,
      "outputs": [
        {
          "output_type": "stream",
          "text": [
            "--2019-02-05 16:11:32--  https://www.analyticsinsight.net/wp-content/uploads/2018/05/AI-ML-DL.jpg\n",
            "Resolving www.analyticsinsight.net (www.analyticsinsight.net)... 116.206.105.72\n",
            "Connecting to www.analyticsinsight.net (www.analyticsinsight.net)|116.206.105.72|:443... connected.\n",
            "HTTP request sent, awaiting response... 200 OK\n",
            "Length: 34570 (34K) [image/jpeg]\n",
            "Saving to: ‘AI-ML-DL.jpg’\n",
            "\n",
            "AI-ML-DL.jpg        100%[===================>]  33.76K  60.5KB/s    in 0.6s    \n",
            "\n",
            "2019-02-05 16:11:34 (60.5 KB/s) - ‘AI-ML-DL.jpg’ saved [34570/34570]\n",
            "\n"
          ],
          "name": "stdout"
        }
      ]
    },
    {
      "metadata": {
        "id": "msFKL5bFbeK9",
        "colab_type": "code",
        "colab": {
          "base_uri": "https://localhost:8080/",
          "height": 35
        },
        "outputId": "21c2e236-3410-4396-dfaf-60d09378fddb"
      },
      "cell_type": "code",
      "source": [
        "!ls"
      ],
      "execution_count": 23,
      "outputs": [
        {
          "output_type": "stream",
          "text": [
            "AI-ML-DL.jpg  mobile_cleaned.csv  sample_data\n"
          ],
          "name": "stdout"
        }
      ]
    },
    {
      "metadata": {
        "id": "5TCOUj1QbmeK",
        "colab_type": "code",
        "colab": {}
      },
      "cell_type": "code",
      "source": [
        "import matplotlib.image as mpimg"
      ],
      "execution_count": 0,
      "outputs": []
    },
    {
      "metadata": {
        "id": "ygvSt8RfbvA9",
        "colab_type": "code",
        "colab": {}
      },
      "cell_type": "code",
      "source": [
        "img = mpimg.imread('AI-ML-DL.jpg')\n",
        "print(img)\n",
        "print(img.shape)\n"
      ],
      "execution_count": 0,
      "outputs": []
    },
    {
      "metadata": {
        "id": "VUkzLhSrcGVd",
        "colab_type": "code",
        "colab": {
          "base_uri": "https://localhost:8080/",
          "height": 292
        },
        "outputId": "005f4e46-f67c-480c-9fb6-71789052ce3f"
      },
      "cell_type": "code",
      "source": [
        "plt.imshow(img)"
      ],
      "execution_count": 29,
      "outputs": [
        {
          "output_type": "execute_result",
          "data": {
            "text/plain": [
              "<matplotlib.image.AxesImage at 0x7ff5d3072d68>"
            ]
          },
          "metadata": {
            "tags": []
          },
          "execution_count": 29
        },
        {
          "output_type": "display_data",
          "data": {
            "image/png": "[encoded data removed]",
            "text/plain": [
              "<Figure size 432x288 with 1 Axes>"
            ]
          },
          "metadata": {
            "tags": []
          }
        }
      ]
    }
  ]
}